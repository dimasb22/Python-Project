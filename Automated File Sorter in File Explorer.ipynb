{
 "cells": [
  {
   "cell_type": "markdown",
   "metadata": {},
   "source": [
    "Here we GO!"
   ]
  },
  {
   "cell_type": "code",
   "execution_count": 1,
   "metadata": {},
   "outputs": [],
   "source": [
    "import os, shutil"
   ]
  },
  {
   "cell_type": "code",
   "execution_count": 11,
   "metadata": {},
   "outputs": [],
   "source": [
    "path = r\"D:/Dimas/MySkills/ALEX bootcamp Data Analyst/Python/File sorter practice/\""
   ]
  },
  {
   "cell_type": "code",
   "execution_count": 12,
   "metadata": {},
   "outputs": [
    {
     "data": {
      "text/plain": [
       "['Apocolypse Food Prep 2-3  Relationship and DAX Tutorial.xlsx',\n",
       " 'Automated File Sorter in File Explorer.ipynb',\n",
       " 'country_wise_latest.csv',\n",
       " 'Verified Analytics Bootcamp Certification.png']"
      ]
     },
     "execution_count": 12,
     "metadata": {},
     "output_type": "execute_result"
    }
   ],
   "source": [
    "# check file\n",
    "file_name = os.listdir(path)\n",
    "file_name"
   ]
  },
  {
   "cell_type": "code",
   "execution_count": 17,
   "metadata": {},
   "outputs": [
    {
     "name": "stdout",
     "output_type": "stream",
     "text": [
      "D:/Dimas/MySkills/ALEX bootcamp Data Analyst/Python/File sorter practice/Excel files\n"
     ]
    }
   ],
   "source": [
    "# create folder\n",
    "\n",
    "folder_names = [\"csv files\", \"Image Files\", \"Excel files\"]\n",
    "\n",
    "for loop in range(0,3):\n",
    "    if not os.path.exists(path + folder_names[loop]):\n",
    "        print(path + folder_names[loop])\n",
    "        os.makedirs(path + folder_names[loop])"
   ]
  },
  {
   "cell_type": "code",
   "execution_count": 18,
   "metadata": {},
   "outputs": [
    {
     "name": "stdout",
     "output_type": "stream",
     "text": [
      "This file is not Exists\n"
     ]
    }
   ],
   "source": [
    "# Put files into each folder\n",
    "\n",
    "for file in file_name:\n",
    "    if \".csv\" in file and not os.path.exists(path + \"csv files/\" + file):\n",
    "        shutil.move(path + file, path + \"csv files/\" + file)\n",
    "    elif \".png\" in file and not os.path.exists(path + \"Image files/\" + file):\n",
    "        shutil.move(path + file, path + \"Image files/\" + file)\n",
    "    elif \".xlsx\" in file and not os.path.exists(path + \"Excel files/\" + file):\n",
    "        shutil.move(path + file, path + \"Excel files/\" + file)\n",
    "    else:\n",
    "        print(\"This file is not Exists\")"
   ]
  }
 ],
 "metadata": {
  "kernelspec": {
   "display_name": "base",
   "language": "python",
   "name": "python3"
  },
  "language_info": {
   "codemirror_mode": {
    "name": "ipython",
    "version": 3
   },
   "file_extension": ".py",
   "mimetype": "text/x-python",
   "name": "python",
   "nbconvert_exporter": "python",
   "pygments_lexer": "ipython3",
   "version": "3.11.5"
  }
 },
 "nbformat": 4,
 "nbformat_minor": 2
}
